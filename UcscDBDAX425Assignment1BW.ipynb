{
  "nbformat": 4,
  "nbformat_minor": 0,
  "metadata": {
    "colab": {
      "provenance": [],
      "include_colab_link": true
    },
    "kernelspec": {
      "name": "python3",
      "display_name": "Python 3"
    },
    "language_info": {
      "name": "python"
    }
  },
  "cells": [
    {
      "cell_type": "markdown",
      "metadata": {
        "id": "view-in-github",
        "colab_type": "text"
      },
      "source": [
        "<a href=\"https://colab.research.google.com/github/bobby1/UCSC-Deep-Learning-and-Artificial-Intelligence/blob/main/UcscDBDAX425Assignment1BW.ipynb\" target=\"_parent\"><img src=\"https://colab.research.google.com/assets/colab-badge.svg\" alt=\"Open In Colab\"/></a>"
      ]
    },
    {
      "cell_type": "markdown",
      "source": [
        "##DBDA.X425.(12) Deep Learning and Artificial Intelligence\n",
        "Spring 2023\n",
        "# Instructor Mohammad Naveed\n",
        "\n",
        "Assignment 1: Create an Artificial Neural Network Model for Fashion Dataset using Sequential model.\n",
        "\n",
        "Bobby Wen"
      ],
      "metadata": {
        "id": "ycutyO1yzhg5"
      }
    },
    {
      "cell_type": "markdown",
      "source": [
        "1.Create an Artificial Neural Network Model for Fashion Dataset using\n",
        "Sequential.\n",
        "\n",
        "Instructions\n",
        "\n",
        "Import the required tensorflow and keras libraries.\n",
        "\n",
        "Import the fashion mnist dataset using the following import\n",
        "\n",
        "from tensorflow.keras.datasets import fashion_mnist"
      ],
      "metadata": {
        "id": "0aW7O5uzpzhG"
      }
    },
    {
      "cell_type": "code",
      "execution_count": null,
      "metadata": {
        "id": "bRgQgAOHzWeF"
      },
      "outputs": [],
      "source": [
        "import tensorflow as tf\n",
        "from tensorflow import keras\n",
        "from tensorflow.keras import layers\n",
        "from tensorflow.keras.datasets import fashion_mnist\n",
        "\n",
        "import pandas as pd\n",
        "import numpy as np\n",
        "\n",
        "print ('Tensorflow Version:', tf.__version__)\n",
        "print ('Panda Version:', pd.__version__)\n",
        "print ('numpy Version:', np.__version__)"
      ]
    },
    {
      "cell_type": "markdown",
      "source": [
        "2. After importing dataset, display an image from “x_train” and “x_test” dataset.\n"
      ],
      "metadata": {
        "id": "tDcCRioy0i3E"
      }
    },
    {
      "cell_type": "code",
      "source": [
        "#MNIST dataset has 60,000 training data with image size of 28x28\n",
        "#There are also 10,000 testing data with 28x28 image size\n",
        "tf.keras.datasets.fashion_mnist.load_data()\n",
        "(x_train, y_train), (x_test, y_test) = fashion_mnist.load_data()\n",
        "# Save dataset for later use before reshaping data\n",
        "z_test = x_test"
      ],
      "metadata": {
        "id": "Z75e6ffM0ouM"
      },
      "execution_count": null,
      "outputs": []
    },
    {
      "cell_type": "code",
      "source": [
        "# ### Explore data set\n",
        "print('Training dataset shape is :',x_train.shape, ' and their labels are of shape: ',y_train.shape)\n",
        "print('Testing dataset shape is :',x_test.shape, ' and their labels are of shape: ',y_test.shape)"
      ],
      "metadata": {
        "id": "UXEdqu_emyWc"
      },
      "execution_count": null,
      "outputs": []
    },
    {
      "cell_type": "code",
      "source": [
        "# ### Display number of labels in training set\n",
        "y_train"
      ],
      "metadata": {
        "id": "wNM5BJ4l65HY"
      },
      "execution_count": null,
      "outputs": []
    },
    {
      "cell_type": "markdown",
      "source": [
        "Import matplotlib library and display an image."
      ],
      "metadata": {
        "id": "wMOpph-h2cff"
      }
    },
    {
      "cell_type": "code",
      "source": [
        "from matplotlib import pyplot as plt\n",
        "#view the TRAINING dataset sample image\n",
        "plt.imshow(x_train[1000])\n",
        "plt.colorbar()\n",
        "plt.show()"
      ],
      "metadata": {
        "id": "L16hYKXJ2fP9"
      },
      "execution_count": null,
      "outputs": []
    },
    {
      "cell_type": "code",
      "source": [
        "#view the TESTING dataset sample image\n",
        "plt.imshow(x_test[4000])\n",
        "plt.colorbar()\n",
        "plt.show()"
      ],
      "metadata": {
        "id": "qOfEHsC_3IzH"
      },
      "execution_count": null,
      "outputs": []
    },
    {
      "cell_type": "markdown",
      "source": [
        "3. Reshape the dataset as we did for the MNIST dataset.\n",
        "\n",
        "The fashion MNIST dataset also has 60,000 training images and 10,000 test images of clothing containing images of size 28x28."
      ],
      "metadata": {
        "id": "guVoaCS_1utG"
      }
    },
    {
      "cell_type": "code",
      "source": [
        "x_train=x_train.reshape(-1,28*28).astype(\"float32\")/255.0\n",
        "x_test=x_test.reshape(-1,28*28).astype(\"float32\")/255.0\n",
        "\n",
        "display(x_train)"
      ],
      "metadata": {
        "id": "3wcKDv_V1zhb"
      },
      "execution_count": null,
      "outputs": []
    },
    {
      "cell_type": "markdown",
      "source": [
        "##Create Model using Keras API"
      ],
      "metadata": {
        "id": "6Ln6tIOc3UJp"
      }
    },
    {
      "cell_type": "markdown",
      "source": [
        "4. Create 3 Dense Layers with 256, 128 and 64 units in each layer and use “relu” activation function."
      ],
      "metadata": {
        "id": "U9trrkddqhfz"
      }
    },
    {
      "cell_type": "code",
      "source": [
        "#Create model using Sequential API\n",
        "model = keras.Sequential(\n",
        "                          [\n",
        "                           layers.Dense(256,activation='relu')\n",
        "                           ,layers.Dense(128,activation='relu')\n",
        "                           ,layers.Dense(64,activation='relu')\n",
        "                           ,layers.Dense(10)\n",
        "                          ]\n",
        "                        )"
      ],
      "metadata": {
        "id": "vm90P84K3XW-"
      },
      "execution_count": null,
      "outputs": []
    },
    {
      "cell_type": "markdown",
      "source": [
        "5. Compile the model and include “Adam()” optimizer and using “SparseCategoricalCrossentropy“ as a loss function and by using “accuracy” as the metrics."
      ],
      "metadata": {
        "id": "c2yj34eJ5Nme"
      }
    },
    {
      "cell_type": "code",
      "source": [
        "model.compile(\n",
        "              loss = keras.losses.SparseCategoricalCrossentropy(from_logits=True)\n",
        "              ,optimizer=keras.optimizers.Adam()\n",
        "              ,metrics=['accuracy']\n",
        "              )"
      ],
      "metadata": {
        "id": "cbev_ddg5QFY"
      },
      "execution_count": null,
      "outputs": []
    },
    {
      "cell_type": "markdown",
      "source": [
        "6. Fit the model on the training dataset using a bach_size of 200 with 10 epochs."
      ],
      "metadata": {
        "id": "Hsl1ce9f557V"
      }
    },
    {
      "cell_type": "code",
      "source": [
        "model.fit(\n",
        "          x_train\n",
        "          ,y_train\n",
        "          ,batch_size=200\n",
        "          ,epochs=10\n",
        "          ,verbose=1\n",
        "        )"
      ],
      "metadata": {
        "id": "Yppzv4dp56Qd"
      },
      "execution_count": null,
      "outputs": []
    },
    {
      "cell_type": "markdown",
      "source": [
        "Print out Model Summary\n"
      ],
      "metadata": {
        "id": "smMrdk9H5xSg"
      }
    },
    {
      "cell_type": "code",
      "source": [
        "model.summary()"
      ],
      "metadata": {
        "id": "EHXZl9ux51jp"
      },
      "execution_count": null,
      "outputs": []
    },
    {
      "cell_type": "markdown",
      "source": [
        "7. Evaluate the model on the testing dataset."
      ],
      "metadata": {
        "id": "FAFZ3jUn704U"
      }
    },
    {
      "cell_type": "code",
      "source": [
        "test_loss, test_acc = model.evaluate(x_test,y_test)\n",
        "print('\\nTest accuracy:', test_acc)"
      ],
      "metadata": {
        "id": "hFwWbEbT78Ng"
      },
      "execution_count": null,
      "outputs": []
    },
    {
      "cell_type": "markdown",
      "source": [
        "8. Predict the model on the testing dataset and display the prediction for a single image that you have chosen in Step(2)."
      ],
      "metadata": {
        "id": "5zIAjvBn8Hl9"
      }
    },
    {
      "cell_type": "code",
      "source": [
        "myprediction=model.predict(x_test)"
      ],
      "metadata": {
        "id": "g8V6AQpa8Ooq"
      },
      "execution_count": null,
      "outputs": []
    },
    {
      "cell_type": "markdown",
      "source": [
        "Print out predication matrix."
      ],
      "metadata": {
        "id": "Up0wQwFiZYkk"
      }
    },
    {
      "cell_type": "code",
      "source": [
        "print(myprediction[4000])\n",
        "\n",
        "print ('Best prediction is', np.argmax(myprediction[4000]))"
      ],
      "metadata": {
        "id": "PS3O9_mJ8zzn"
      },
      "execution_count": null,
      "outputs": []
    },
    {
      "cell_type": "markdown",
      "source": [
        "Convert predication to human readable form\n",
        "\n",
        "The classes are:\n",
        "Label Description 0 T-shirt/top 1 Trouser 2 Pullover 3 Dress 4 Coat 5 Sandal 6 Shirt 7 Sneaker 8 Bag 9 Ankle boot"
      ],
      "metadata": {
        "id": "Y9Bp_BLQ7JaL"
      }
    },
    {
      "cell_type": "code",
      "source": [
        "# ### removed and replaced with a class\n",
        "# def imagetype(label):\n",
        "#     if label == 0 :\n",
        "#         imageLabel = \"T-shirt/top\"\n",
        "#     elif label == 1:\n",
        "#         imageLabel = \"Trouser\"\n",
        "#     elif label == 2:\n",
        "#         imageLabel = \"Pullover\"\n",
        "#     elif label == 3:\n",
        "#         imageLabel = \"Dress\"\n",
        "#     elif label == 4:\n",
        "#         imageLabel = \"Coat\"\n",
        "#     elif label == 5:\n",
        "#         imageLabel = \"Sandal\"\n",
        "#     elif label == 6:\n",
        "#         imageLabel = \"Shirt\"\n",
        "#     elif label == 7:\n",
        "#         imageLabel = \"Sneaker\"\n",
        "#     elif label == 8:\n",
        "#         imageLabel = \"Bag\"\n",
        "#     elif label == 9:\n",
        "#         imageLabel = \"Ankle boot\"\n",
        "#     else:\n",
        "#         imageLabel =\"No match\"\n",
        "#     return imageLabel"
      ],
      "metadata": {
        "id": "4xm0enjo8u3t"
      },
      "execution_count": null,
      "outputs": []
    },
    {
      "cell_type": "code",
      "source": [
        "# ### added to assignment V1.0 after submission.\n",
        "fashion_classes=['T-shirt/top','Trouser','Pullover','Dress','Coat','Sandal','Shirt','Sneaker','Bag','Ankle boot']"
      ],
      "metadata": {
        "id": "2o5iLyKPJbZM"
      },
      "execution_count": null,
      "outputs": []
    },
    {
      "cell_type": "markdown",
      "source": [
        "9. Finally write a python function that will take an input as an image and shows the prediction for this image. The user can pass any image from 10,000 testing dataset we have."
      ],
      "metadata": {
        "id": "1mMmWKLPrGni"
      }
    },
    {
      "cell_type": "code",
      "source": [
        "def predictImage():\n",
        "    n = int(input(\"Enter the image number you wish to check : \"))\n",
        "    plt.imshow(z_test[n])\n",
        "    plt.colorbar()\n",
        "    plt.show()\n",
        "    imagen = int(np.argmax(myprediction[n]))\n",
        "    # print('Image is a', imagetype(imagen))  ### Replacing function with class and no longer used\n",
        "    print('Image is a', fashion_classes[imagen])\n"
      ],
      "metadata": {
        "id": "XsY4ppp-dpsm"
      },
      "execution_count": null,
      "outputs": []
    },
    {
      "cell_type": "markdown",
      "source": [
        "10. Test your prediction by invoking the above function \"predictImage\" and provide any image from the 10,000 samples we have."
      ],
      "metadata": {
        "id": "Rut9FaAMrVqV"
      }
    },
    {
      "cell_type": "code",
      "source": [
        "predictImage()"
      ],
      "metadata": {
        "id": "7u3kHauCeATE"
      },
      "execution_count": null,
      "outputs": []
    },
    {
      "cell_type": "markdown",
      "source": [
        "Save Model for deployment, if desired"
      ],
      "metadata": {
        "id": "EPqUACYur-cM"
      }
    },
    {
      "cell_type": "code",
      "source": [
        "model.save('my_model.h5')"
      ],
      "metadata": {
        "id": "7kZ6mHrfp2tV"
      },
      "execution_count": null,
      "outputs": []
    }
  ]
}